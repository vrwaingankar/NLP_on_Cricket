{
  "cells": [
    {
      "cell_type": "markdown",
      "metadata": {
        "id": "view-in-github",
        "colab_type": "text"
      },
      "source": [
        "<a href=\"https://colab.research.google.com/github/vrwaingankar/NLP_on_Cricket/blob/main/data_prep.ipynb\" target=\"_parent\"><img src=\"https://colab.research.google.com/assets/colab-badge.svg\" alt=\"Open In Colab\"/></a>"
      ]
    },
    {
      "cell_type": "code",
      "execution_count": null,
      "metadata": {
        "id": "ufHvmpdMBRVu"
      },
      "outputs": [],
      "source": [
        "import pandas as pd\n",
        "import glob"
      ]
    },
    {
      "cell_type": "code",
      "execution_count": null,
      "metadata": {
        "id": "yGiTagz8BRVv",
        "outputId": "bcd8fec0-cec0-46a2-a072-8b758679e57a"
      },
      "outputs": [
        {
          "data": {
            "text/plain": [
              "501"
            ]
          },
          "execution_count": 2,
          "metadata": {},
          "output_type": "execute_result"
        }
      ],
      "source": [
        "comm_paths = glob.glob(\"data/Commentaries/*.csv\")\n",
        "len(comm_paths)"
      ]
    },
    {
      "cell_type": "code",
      "execution_count": null,
      "metadata": {
        "id": "cHdn8mfIBRVw",
        "outputId": "e6ba29b7-128e-494a-9c4f-ef43422ae94f"
      },
      "outputs": [
        {
          "data": {
            "text/plain": [
              "592"
            ]
          },
          "execution_count": 3,
          "metadata": {},
          "output_type": "execute_result"
        }
      ],
      "source": [
        "report_paths = glob.glob(\"data/Reports/*.txt\")\n",
        "len(report_paths)"
      ]
    },
    {
      "cell_type": "code",
      "execution_count": null,
      "metadata": {
        "id": "ufXaCgYRBRVw"
      },
      "outputs": [],
      "source": [
        "comm_fno = []\n",
        "for i in comm_paths:\n",
        "    fno = int(i.split(\"\\\\\")[-1].split(\"_\")[-1].split(\".\")[0])\n",
        "    comm_fno.append(fno)\n",
        "\n",
        "report_fno = []\n",
        "for j in report_paths:\n",
        "    fno = int(j.split(\"\\\\\")[-1].replace(\"report\", \"\").split(\".\")[0])\n",
        "    report_fno.append(fno)\n",
        "\n",
        "comm_fno = set(comm_fno)\n",
        "report_fno = set(report_fno)"
      ]
    },
    {
      "cell_type": "code",
      "execution_count": null,
      "metadata": {
        "id": "vqzRWnKlBRVw"
      },
      "outputs": [],
      "source": [
        "to_read_fno = list(comm_fno.intersection(report_fno))"
      ]
    },
    {
      "cell_type": "code",
      "execution_count": null,
      "metadata": {
        "id": "HIbEQjJDBRVw"
      },
      "outputs": [],
      "source": [
        "comm_read_paths = []\n",
        "for i in comm_paths:\n",
        "    fno = int(i.split(\"\\\\\")[-1].split(\"_\")[-1].split(\".\")[0])\n",
        "    if fno in to_read_fno:\n",
        "        comm_read_paths.append(i)\n",
        "\n",
        "report_read_paths = []\n",
        "for j in report_paths:\n",
        "    fno = int(j.split(\"\\\\\")[-1].replace(\"report\", \"\").split(\".\")[0])\n",
        "    if fno in to_read_fno:\n",
        "        report_read_paths.append(j)"
      ]
    },
    {
      "cell_type": "code",
      "execution_count": null,
      "metadata": {
        "id": "434UkEToBRVx",
        "outputId": "dc234264-3c97-4f14-b957-c44748981581"
      },
      "outputs": [
        {
          "data": {
            "text/plain": [
              "True"
            ]
          },
          "execution_count": 7,
          "metadata": {},
          "output_type": "execute_result"
        }
      ],
      "source": [
        "len(comm_read_paths) == len(report_read_paths)"
      ]
    },
    {
      "cell_type": "code",
      "execution_count": null,
      "metadata": {
        "id": "HlK-29ThBRVx"
      },
      "outputs": [],
      "source": [
        "from transformers import AutoTokenizer\n",
        "tokenizer = AutoTokenizer.from_pretrained(\"google/flan-t5-large\")"
      ]
    },
    {
      "cell_type": "code",
      "execution_count": null,
      "metadata": {
        "id": "vJtn5nQEBRVx"
      },
      "outputs": [],
      "source": [
        "def commentary_read(path):\n",
        "    test_str_lst = pd.read_csv(path)[\"Data\"].to_list()\n",
        "    comm_inp_lst = []\n",
        "    cnt = 0\n",
        "    for i in test_str_lst:\n",
        "        j = i.lower()\n",
        "        if \"run\" not in j:\n",
        "            if cnt==0 or cnt>=len(test_str_lst)-3:\n",
        "                comm_inp_lst.append(i)\n",
        "            elif \" bye \" not in j and \" wide \" not in j and \"extra\" not in j:\n",
        "                if \" out \" in j:\n",
        "                    comm_inp_lst.append(i)\n",
        "                elif \"wicket\" in j:\n",
        "                    comm_inp_lst.append(i)\n",
        "            else:\n",
        "                if random.choice([0,1]) == 1:\n",
        "                    comm_inp_lst.append(i)\n",
        "        elif \" six \" in j:\n",
        "            if random.choice([0,1,0,0]) == 1:\n",
        "                comm_inp_lst.append(i)\n",
        "        cnt = cnt + 1\n",
        "    return ' '.join(comm_inp_lst)"
      ]
    },
    {
      "cell_type": "code",
      "execution_count": null,
      "metadata": {
        "id": "gYh6oiE2BRVx"
      },
      "outputs": [],
      "source": [
        "def report_read(path):\n",
        "    with open(path) as f:\n",
        "        report_str = f.read()\n",
        "    return report_str"
      ]
    },
    {
      "cell_type": "code",
      "execution_count": null,
      "metadata": {
        "id": "DLO3K3XDBRVx"
      },
      "outputs": [],
      "source": [
        "final_commentaries = []\n",
        "final_reports = []\n",
        "for i in comm_read_paths:\n",
        "    final_commentaries.append(commentary_read(i))\n",
        "for j in report_read_paths:\n",
        "    final_reports.append(report_read(j))"
      ]
    },
    {
      "cell_type": "code",
      "execution_count": null,
      "metadata": {
        "id": "lfqg7kGABRVx",
        "outputId": "9bf483f6-4089-4e95-a5b8-cf3634e5d3ef"
      },
      "outputs": [
        {
          "data": {
            "text/html": [
              "<div>\n",
              "<style scoped>\n",
              "    .dataframe tbody tr th:only-of-type {\n",
              "        vertical-align: middle;\n",
              "    }\n",
              "\n",
              "    .dataframe tbody tr th {\n",
              "        vertical-align: top;\n",
              "    }\n",
              "\n",
              "    .dataframe thead th {\n",
              "        text-align: right;\n",
              "    }\n",
              "</style>\n",
              "<table border=\"1\" class=\"dataframe\">\n",
              "  <thead>\n",
              "    <tr style=\"text-align: right;\">\n",
              "      <th></th>\n",
              "      <th>Commentary_Highlights</th>\n",
              "      <th>Match_Report</th>\n",
              "    </tr>\n",
              "  </thead>\n",
              "  <tbody>\n",
              "    <tr>\n",
              "      <th>0</th>\n",
              "      <td>5.30pm Bangladesh have won the toss and will b...</td>\n",
              "      <td>Bangladesh 122 for 8 (Naim 23, Ellis 2-16, Chr...</td>\n",
              "    </tr>\n",
              "    <tr>\n",
              "      <th>1</th>\n",
              "      <td>7.00pm Australia have won the toss and will ba...</td>\n",
              "      <td>Australia 189 for 6 (Marsh 75, Finch 53, Walsh...</td>\n",
              "    </tr>\n",
              "    <tr>\n",
              "      <th>2</th>\n",
              "      <td>Rashid to Finch, 2 wide angled down the leg si...</td>\n",
              "      <td>England 5 for 308 (Roy 180, Root 91*) beat Aus...</td>\n",
              "    </tr>\n",
              "    <tr>\n",
              "      <th>3</th>\n",
              "      <td>Stanlake to Guptill, 2 wide short outside off,...</td>\n",
              "      <td>Australia 121 for 3 (Short 50) beat New Zealan...</td>\n",
              "    </tr>\n",
              "    <tr>\n",
              "      <th>4</th>\n",
              "      <td>6.30pm New Zealand won the toss and will bat. ...</td>\n",
              "      <td>Australia 245 for 5 (Short 76, Warner 59) beat...</td>\n",
              "    </tr>\n",
              "    <tr>\n",
              "      <th>...</th>\n",
              "      <td>...</td>\n",
              "      <td>...</td>\n",
              "    </tr>\n",
              "    <tr>\n",
              "      <th>460</th>\n",
              "      <td>Starc to Dickwella, OUT gone first ball! Gets ...</td>\n",
              "      <td>Australia 3 for 145 (Warner 57*) beat Sri Lank...</td>\n",
              "    </tr>\n",
              "    <tr>\n",
              "      <th>461</th>\n",
              "      <td>Tye to Roy, OUT battered high in the air, and ...</td>\n",
              "      <td>England 259 (Root 62, Tye 5-46) beat Australia...</td>\n",
              "    </tr>\n",
              "    <tr>\n",
              "      <th>462</th>\n",
              "      <td>1.20pm: We've have a toss! And Australia have ...</td>\n",
              "      <td>Australia 197 for 7 (Head 96, Rashid 3-49) bea...</td>\n",
              "    </tr>\n",
              "    <tr>\n",
              "      <th>463</th>\n",
              "      <td>Zampa to Bairstow, OUT oh beautifully bowled. ...</td>\n",
              "      <td>England 6 for 302 (Buttler 100*, Woakes 53*) b...</td>\n",
              "    </tr>\n",
              "    <tr>\n",
              "      <th>464</th>\n",
              "      <td>Plunkett to Warner, 1 wide down the leg side, ...</td>\n",
              "      <td>England 6 for 274 (Bairstow 60, Hales 57, Star...</td>\n",
              "    </tr>\n",
              "  </tbody>\n",
              "</table>\n",
              "<p>465 rows × 2 columns</p>\n",
              "</div>"
            ],
            "text/plain": [
              "                                 Commentary_Highlights  \\\n",
              "0    5.30pm Bangladesh have won the toss and will b...   \n",
              "1    7.00pm Australia have won the toss and will ba...   \n",
              "2    Rashid to Finch, 2 wide angled down the leg si...   \n",
              "3    Stanlake to Guptill, 2 wide short outside off,...   \n",
              "4    6.30pm New Zealand won the toss and will bat. ...   \n",
              "..                                                 ...   \n",
              "460  Starc to Dickwella, OUT gone first ball! Gets ...   \n",
              "461  Tye to Roy, OUT battered high in the air, and ...   \n",
              "462  1.20pm: We've have a toss! And Australia have ...   \n",
              "463  Zampa to Bairstow, OUT oh beautifully bowled. ...   \n",
              "464  Plunkett to Warner, 1 wide down the leg side, ...   \n",
              "\n",
              "                                          Match_Report  \n",
              "0    Bangladesh 122 for 8 (Naim 23, Ellis 2-16, Chr...  \n",
              "1    Australia 189 for 6 (Marsh 75, Finch 53, Walsh...  \n",
              "2    England 5 for 308 (Roy 180, Root 91*) beat Aus...  \n",
              "3    Australia 121 for 3 (Short 50) beat New Zealan...  \n",
              "4    Australia 245 for 5 (Short 76, Warner 59) beat...  \n",
              "..                                                 ...  \n",
              "460  Australia 3 for 145 (Warner 57*) beat Sri Lank...  \n",
              "461  England 259 (Root 62, Tye 5-46) beat Australia...  \n",
              "462  Australia 197 for 7 (Head 96, Rashid 3-49) bea...  \n",
              "463  England 6 for 302 (Buttler 100*, Woakes 53*) b...  \n",
              "464  England 6 for 274 (Bairstow 60, Hales 57, Star...  \n",
              "\n",
              "[465 rows x 2 columns]"
            ]
          },
          "execution_count": 84,
          "metadata": {},
          "output_type": "execute_result"
        }
      ],
      "source": [
        "final_df = pd.DataFrame({\n",
        "    \"Commentary_Highlights\" : final_commentaries,\n",
        "    \"Match_Report\" : final_reports\n",
        "})\n",
        "final_df"
      ]
    },
    {
      "cell_type": "code",
      "execution_count": null,
      "metadata": {
        "id": "5mXscUEUBRVx"
      },
      "outputs": [],
      "source": [
        "final_df.to_parquet(\"data/match_report_gen.parquet\", index=False)\n",
        "final_df.to_csv(\"data/match_report_gen.csv\", index=False)"
      ]
    },
    {
      "cell_type": "code",
      "execution_count": null,
      "metadata": {
        "id": "bqYr7jxKBRVx",
        "outputId": "4b34510c-4c04-4124-feca-530bac476967"
      },
      "outputs": [
        {
          "data": {
            "text/html": [
              "<div>\n",
              "<style scoped>\n",
              "    .dataframe tbody tr th:only-of-type {\n",
              "        vertical-align: middle;\n",
              "    }\n",
              "\n",
              "    .dataframe tbody tr th {\n",
              "        vertical-align: top;\n",
              "    }\n",
              "\n",
              "    .dataframe thead th {\n",
              "        text-align: right;\n",
              "    }\n",
              "</style>\n",
              "<table border=\"1\" class=\"dataframe\">\n",
              "  <thead>\n",
              "    <tr style=\"text-align: right;\">\n",
              "      <th></th>\n",
              "      <th>Commentary_Highlights</th>\n",
              "      <th>Match_Report</th>\n",
              "    </tr>\n",
              "  </thead>\n",
              "  <tbody>\n",
              "    <tr>\n",
              "      <th>0</th>\n",
              "      <td>5.30pm Bangladesh have won the toss and will b...</td>\n",
              "      <td>Bangladesh 122 for 8 (Naim 23, Ellis 2-16, Chr...</td>\n",
              "    </tr>\n",
              "    <tr>\n",
              "      <th>1</th>\n",
              "      <td>7.00pm Australia have won the toss and will ba...</td>\n",
              "      <td>Australia 189 for 6 (Marsh 75, Finch 53, Walsh...</td>\n",
              "    </tr>\n",
              "    <tr>\n",
              "      <th>2</th>\n",
              "      <td>Rashid to Finch, 2 wide angled down the leg si...</td>\n",
              "      <td>England 5 for 308 (Roy 180, Root 91*) beat Aus...</td>\n",
              "    </tr>\n",
              "    <tr>\n",
              "      <th>3</th>\n",
              "      <td>Stanlake to Guptill, 2 wide short outside off,...</td>\n",
              "      <td>Australia 121 for 3 (Short 50) beat New Zealan...</td>\n",
              "    </tr>\n",
              "    <tr>\n",
              "      <th>4</th>\n",
              "      <td>6.30pm New Zealand won the toss and will bat. ...</td>\n",
              "      <td>Australia 245 for 5 (Short 76, Warner 59) beat...</td>\n",
              "    </tr>\n",
              "    <tr>\n",
              "      <th>...</th>\n",
              "      <td>...</td>\n",
              "      <td>...</td>\n",
              "    </tr>\n",
              "    <tr>\n",
              "      <th>460</th>\n",
              "      <td>Starc to Dickwella, OUT gone first ball! Gets ...</td>\n",
              "      <td>Australia 3 for 145 (Warner 57*) beat Sri Lank...</td>\n",
              "    </tr>\n",
              "    <tr>\n",
              "      <th>461</th>\n",
              "      <td>Tye to Roy, OUT battered high in the air, and ...</td>\n",
              "      <td>England 259 (Root 62, Tye 5-46) beat Australia...</td>\n",
              "    </tr>\n",
              "    <tr>\n",
              "      <th>462</th>\n",
              "      <td>1.20pm: We've have a toss! And Australia have ...</td>\n",
              "      <td>Australia 197 for 7 (Head 96, Rashid 3-49) bea...</td>\n",
              "    </tr>\n",
              "    <tr>\n",
              "      <th>463</th>\n",
              "      <td>Zampa to Bairstow, OUT oh beautifully bowled. ...</td>\n",
              "      <td>England 6 for 302 (Buttler 100*, Woakes 53*) b...</td>\n",
              "    </tr>\n",
              "    <tr>\n",
              "      <th>464</th>\n",
              "      <td>Plunkett to Warner, 1 wide down the leg side, ...</td>\n",
              "      <td>England 6 for 274 (Bairstow 60, Hales 57, Star...</td>\n",
              "    </tr>\n",
              "  </tbody>\n",
              "</table>\n",
              "<p>465 rows × 2 columns</p>\n",
              "</div>"
            ],
            "text/plain": [
              "                                 Commentary_Highlights  \\\n",
              "0    5.30pm Bangladesh have won the toss and will b...   \n",
              "1    7.00pm Australia have won the toss and will ba...   \n",
              "2    Rashid to Finch, 2 wide angled down the leg si...   \n",
              "3    Stanlake to Guptill, 2 wide short outside off,...   \n",
              "4    6.30pm New Zealand won the toss and will bat. ...   \n",
              "..                                                 ...   \n",
              "460  Starc to Dickwella, OUT gone first ball! Gets ...   \n",
              "461  Tye to Roy, OUT battered high in the air, and ...   \n",
              "462  1.20pm: We've have a toss! And Australia have ...   \n",
              "463  Zampa to Bairstow, OUT oh beautifully bowled. ...   \n",
              "464  Plunkett to Warner, 1 wide down the leg side, ...   \n",
              "\n",
              "                                          Match_Report  \n",
              "0    Bangladesh 122 for 8 (Naim 23, Ellis 2-16, Chr...  \n",
              "1    Australia 189 for 6 (Marsh 75, Finch 53, Walsh...  \n",
              "2    England 5 for 308 (Roy 180, Root 91*) beat Aus...  \n",
              "3    Australia 121 for 3 (Short 50) beat New Zealan...  \n",
              "4    Australia 245 for 5 (Short 76, Warner 59) beat...  \n",
              "..                                                 ...  \n",
              "460  Australia 3 for 145 (Warner 57*) beat Sri Lank...  \n",
              "461  England 259 (Root 62, Tye 5-46) beat Australia...  \n",
              "462  Australia 197 for 7 (Head 96, Rashid 3-49) bea...  \n",
              "463  England 6 for 302 (Buttler 100*, Woakes 53*) b...  \n",
              "464  England 6 for 274 (Bairstow 60, Hales 57, Star...  \n",
              "\n",
              "[465 rows x 2 columns]"
            ]
          },
          "execution_count": 86,
          "metadata": {},
          "output_type": "execute_result"
        }
      ],
      "source": [
        "final_df"
      ]
    },
    {
      "cell_type": "code",
      "execution_count": null,
      "metadata": {
        "id": "KP7fIKQNBRVy"
      },
      "outputs": [],
      "source": [
        "final_df[\"src_len\"] = final_df[\"Commentary_Highlights\"].map(lambda x : len(tokenizer(x)[\"input_ids\"]))\n",
        "final_df[\"tgt_len\"] = final_df[\"Match_Report\"].map(lambda x : len(tokenizer(x)[\"input_ids\"]))"
      ]
    },
    {
      "cell_type": "code",
      "execution_count": null,
      "metadata": {
        "id": "cJP1ihBABRVy",
        "outputId": "ea5db4e6-e336-41ad-e9ed-59328beac22d"
      },
      "outputs": [
        {
          "data": {
            "text/html": [
              "<div>\n",
              "<style scoped>\n",
              "    .dataframe tbody tr th:only-of-type {\n",
              "        vertical-align: middle;\n",
              "    }\n",
              "\n",
              "    .dataframe tbody tr th {\n",
              "        vertical-align: top;\n",
              "    }\n",
              "\n",
              "    .dataframe thead th {\n",
              "        text-align: right;\n",
              "    }\n",
              "</style>\n",
              "<table border=\"1\" class=\"dataframe\">\n",
              "  <thead>\n",
              "    <tr style=\"text-align: right;\">\n",
              "      <th></th>\n",
              "      <th>Commentary_Highlights</th>\n",
              "      <th>Match_Report</th>\n",
              "      <th>src_len</th>\n",
              "      <th>tgt_len</th>\n",
              "    </tr>\n",
              "  </thead>\n",
              "  <tbody>\n",
              "    <tr>\n",
              "      <th>0</th>\n",
              "      <td>5.30pm Bangladesh have won the toss and will b...</td>\n",
              "      <td>Bangladesh 122 for 8 (Naim 23, Ellis 2-16, Chr...</td>\n",
              "      <td>958</td>\n",
              "      <td>186</td>\n",
              "    </tr>\n",
              "    <tr>\n",
              "      <th>1</th>\n",
              "      <td>7.00pm Australia have won the toss and will ba...</td>\n",
              "      <td>Australia 189 for 6 (Marsh 75, Finch 53, Walsh...</td>\n",
              "      <td>939</td>\n",
              "      <td>328</td>\n",
              "    </tr>\n",
              "    <tr>\n",
              "      <th>2</th>\n",
              "      <td>Rashid to Finch, 2 wide angled down the leg si...</td>\n",
              "      <td>England 5 for 308 (Roy 180, Root 91*) beat Aus...</td>\n",
              "      <td>1007</td>\n",
              "      <td>301</td>\n",
              "    </tr>\n",
              "    <tr>\n",
              "      <th>3</th>\n",
              "      <td>Stanlake to Guptill, 2 wide short outside off,...</td>\n",
              "      <td>Australia 121 for 3 (Short 50) beat New Zealan...</td>\n",
              "      <td>936</td>\n",
              "      <td>229</td>\n",
              "    </tr>\n",
              "    <tr>\n",
              "      <th>4</th>\n",
              "      <td>6.30pm New Zealand won the toss and will bat. ...</td>\n",
              "      <td>Australia 245 for 5 (Short 76, Warner 59) beat...</td>\n",
              "      <td>929</td>\n",
              "      <td>310</td>\n",
              "    </tr>\n",
              "    <tr>\n",
              "      <th>...</th>\n",
              "      <td>...</td>\n",
              "      <td>...</td>\n",
              "      <td>...</td>\n",
              "      <td>...</td>\n",
              "    </tr>\n",
              "    <tr>\n",
              "      <th>460</th>\n",
              "      <td>Starc to Dickwella, OUT gone first ball! Gets ...</td>\n",
              "      <td>Australia 3 for 145 (Warner 57*) beat Sri Lank...</td>\n",
              "      <td>957</td>\n",
              "      <td>178</td>\n",
              "    </tr>\n",
              "    <tr>\n",
              "      <th>461</th>\n",
              "      <td>Tye to Roy, OUT battered high in the air, and ...</td>\n",
              "      <td>England 259 (Root 62, Tye 5-46) beat Australia...</td>\n",
              "      <td>1031</td>\n",
              "      <td>273</td>\n",
              "    </tr>\n",
              "    <tr>\n",
              "      <th>462</th>\n",
              "      <td>1.20pm: We've have a toss! And Australia have ...</td>\n",
              "      <td>Australia 197 for 7 (Head 96, Rashid 3-49) bea...</td>\n",
              "      <td>813</td>\n",
              "      <td>332</td>\n",
              "    </tr>\n",
              "    <tr>\n",
              "      <th>463</th>\n",
              "      <td>Zampa to Bairstow, OUT oh beautifully bowled. ...</td>\n",
              "      <td>England 6 for 302 (Buttler 100*, Woakes 53*) b...</td>\n",
              "      <td>1172</td>\n",
              "      <td>214</td>\n",
              "    </tr>\n",
              "    <tr>\n",
              "      <th>464</th>\n",
              "      <td>Plunkett to Warner, 1 wide down the leg side, ...</td>\n",
              "      <td>England 6 for 274 (Bairstow 60, Hales 57, Star...</td>\n",
              "      <td>764</td>\n",
              "      <td>238</td>\n",
              "    </tr>\n",
              "  </tbody>\n",
              "</table>\n",
              "<p>465 rows × 4 columns</p>\n",
              "</div>"
            ],
            "text/plain": [
              "                                 Commentary_Highlights  \\\n",
              "0    5.30pm Bangladesh have won the toss and will b...   \n",
              "1    7.00pm Australia have won the toss and will ba...   \n",
              "2    Rashid to Finch, 2 wide angled down the leg si...   \n",
              "3    Stanlake to Guptill, 2 wide short outside off,...   \n",
              "4    6.30pm New Zealand won the toss and will bat. ...   \n",
              "..                                                 ...   \n",
              "460  Starc to Dickwella, OUT gone first ball! Gets ...   \n",
              "461  Tye to Roy, OUT battered high in the air, and ...   \n",
              "462  1.20pm: We've have a toss! And Australia have ...   \n",
              "463  Zampa to Bairstow, OUT oh beautifully bowled. ...   \n",
              "464  Plunkett to Warner, 1 wide down the leg side, ...   \n",
              "\n",
              "                                          Match_Report  src_len  tgt_len  \n",
              "0    Bangladesh 122 for 8 (Naim 23, Ellis 2-16, Chr...      958      186  \n",
              "1    Australia 189 for 6 (Marsh 75, Finch 53, Walsh...      939      328  \n",
              "2    England 5 for 308 (Roy 180, Root 91*) beat Aus...     1007      301  \n",
              "3    Australia 121 for 3 (Short 50) beat New Zealan...      936      229  \n",
              "4    Australia 245 for 5 (Short 76, Warner 59) beat...      929      310  \n",
              "..                                                 ...      ...      ...  \n",
              "460  Australia 3 for 145 (Warner 57*) beat Sri Lank...      957      178  \n",
              "461  England 259 (Root 62, Tye 5-46) beat Australia...     1031      273  \n",
              "462  Australia 197 for 7 (Head 96, Rashid 3-49) bea...      813      332  \n",
              "463  England 6 for 302 (Buttler 100*, Woakes 53*) b...     1172      214  \n",
              "464  England 6 for 274 (Bairstow 60, Hales 57, Star...      764      238  \n",
              "\n",
              "[465 rows x 4 columns]"
            ]
          },
          "execution_count": 88,
          "metadata": {},
          "output_type": "execute_result"
        }
      ],
      "source": [
        "final_df"
      ]
    },
    {
      "cell_type": "code",
      "execution_count": null,
      "metadata": {
        "id": "b35MYioOBRVy",
        "outputId": "67c478a0-fbc6-49c9-a5fd-53c541ff3b0b"
      },
      "outputs": [
        {
          "data": {
            "text/plain": [
              "\"5.30pm Bangladesh have won the toss and will bat Agar to Mohammad Naim, 1 wide another one turns far down leg side from a good length on middle, and it is a wide Turner to Mahedi Hasan, 1 wide turns down leg, and a wide. Full length on middle and leg, and he is beaten on his sweep as the ball turns down Turner to Mahedi Hasan, 1 wide and another wide, this time outside off Turner to Mahedi Hasan, 3 wide Wade misses this ball, as it turns down leg after pitching full on middle and leg. The batter misses is sweep too, and that is wide again Turner to Mahedi Hasan, OUT top edge gobbled at midwicket! Shorter in length on middle, and the ball seemed like stopping on to the pitch as he went for the pull off his back foot. The bat entirely came out of his hands as he played that. Anyway, that is a wicket Turner will gladly accept after a couple of wides in the over Christian to Shakib, 1 leg bye goes for the lap, but is beaten. Full ball on off from wide of the crease again. The ball trickles off his arm toward point, and they sneak in a leg bye Christian to Mohammad Naim, OUT taken at point! Goes for the reverse-sweep to this good length ball on off, but gets it off the higher part of the bat with his bottom hand coming off as well. Short third man thought for a moment that the ball was coming on to him and even took a few steps forward, but left it for the man at point in the end. Easy catch as well Zampa to Shakib, OUT appeal for leg before, and the finger goes up! Shakib is dismisses leg before for the first time in T20Is. Full length on middle, and he closes his bat face pretty early to try and clip that to the leg side. But the ball zips through to strike his front pad, and the umpire calls him out after a brief thought Agar to Mahmudullah, OUT that's a dolly! It was short of a length, held in the surface then straight, he was through the shot and got a leading edge that looked straight up Christian to Soumya, OUT straight to long-off! That looked quite good off the bat, a lofted off drive, but he couldn't get the distance Ellis to Nurul, OUT dragged on! Back of a length outside off, Nurul swinging across the line and gets a bottom edge into middle stump Christian to Mosaddek, 1 bye full outside off, attempts a reverse sweep, it's through to Wade and they steal a bye Ellis to Afif, OUT picks out short fine leg trying to scoop, was full outside off, he shuffled across but couldn't only get height on the ball and no distance Ellis to Mosaddek, OUT direct hit from Wade...bottom edge as he swings across the line, just misses off stump. Neat gather and throw Wade and McDermott Christian take their time to come out of their hut though. A change in the opening combination for Australia too after the latter's assault of five sixes in an over last game. Mahedi, who opened the batting too, will start with the ball to Christian. Over the wicket Nasum to Marsh, OUT struck on the front pad, and given leg before! But Marsh reviews. Good length ball on middle, and he is across the stumps while trying to slog that to the on side with his back leg way outside off. He his down on his back knee, as it hits him close to his knee. Replays show that would have hit middle and leg, and Marsh has to walk back. The stumps were clearly visible when Meanwhile, Gnasher and our stats whiz Sampath have alerted me to the fact that this is the quickest Australia have been bowled out in all international cricket. Whew! Took just 13.4 overs today, and their previous low was 14.3 overs. Player of the match is Shakib Al Hasan, BDESH\""
            ]
          },
          "execution_count": 89,
          "metadata": {},
          "output_type": "execute_result"
        }
      ],
      "source": [
        "final_df[\"Commentary_Highlights\"][0]"
      ]
    },
    {
      "cell_type": "code",
      "execution_count": null,
      "metadata": {
        "id": "YB7Rv8ZNBRVy",
        "outputId": "baa14d9a-96a8-402a-e604-07105e86048c"
      },
      "outputs": [
        {
          "name": "stderr",
          "output_type": "stream",
          "text": [
            "C:\\Users\\vasan\\AppData\\Local\\Temp\\ipykernel_8752\\1184740705.py:2: UserWarning: \n",
            "\n",
            "`distplot` is a deprecated function and will be removed in seaborn v0.14.0.\n",
            "\n",
            "Please adapt your code to use either `displot` (a figure-level function with\n",
            "similar flexibility) or `histplot` (an axes-level function for histograms).\n",
            "\n",
            "For a guide to updating your code to use the new functions, please see\n",
            "https://gist.github.com/mwaskom/de44147ed2974457ad6372750bbe5751\n",
            "\n",
            "  sns.distplot(final_df[\"src_len\"])\n"
          ]
        },
        {
          "data": {
            "text/plain": [
              "<Axes: xlabel='src_len', ylabel='Density'>"
            ]
          },
          "execution_count": 90,
          "metadata": {},
          "output_type": "execute_result"
        },
        {
          "data": {
            "image/png": "[encoded data removed]",
            "text/plain": [
              "<Figure size 640x480 with 1 Axes>"
            ]
          },
          "metadata": {},
          "output_type": "display_data"
        }
      ],
      "source": [
        "import seaborn as sns\n",
        "sns.distplot(final_df[\"src_len\"])"
      ]
    },
    {
      "cell_type": "code",
      "execution_count": null,
      "metadata": {
        "id": "p5RuPIlmBRVy",
        "outputId": "bce8d2cd-772e-4903-aa4b-fb2efda8ef46"
      },
      "outputs": [
        {
          "data": {
            "text/html": [
              "<div>\n",
              "<style scoped>\n",
              "    .dataframe tbody tr th:only-of-type {\n",
              "        vertical-align: middle;\n",
              "    }\n",
              "\n",
              "    .dataframe tbody tr th {\n",
              "        vertical-align: top;\n",
              "    }\n",
              "\n",
              "    .dataframe thead th {\n",
              "        text-align: right;\n",
              "    }\n",
              "</style>\n",
              "<table border=\"1\" class=\"dataframe\">\n",
              "  <thead>\n",
              "    <tr style=\"text-align: right;\">\n",
              "      <th></th>\n",
              "      <th>src_len</th>\n",
              "      <th>tgt_len</th>\n",
              "    </tr>\n",
              "  </thead>\n",
              "  <tbody>\n",
              "    <tr>\n",
              "      <th>count</th>\n",
              "      <td>465.000000</td>\n",
              "      <td>465.000000</td>\n",
              "    </tr>\n",
              "    <tr>\n",
              "      <th>mean</th>\n",
              "      <td>982.662366</td>\n",
              "      <td>267.569892</td>\n",
              "    </tr>\n",
              "    <tr>\n",
              "      <th>std</th>\n",
              "      <td>419.587487</td>\n",
              "      <td>56.510870</td>\n",
              "    </tr>\n",
              "    <tr>\n",
              "      <th>min</th>\n",
              "      <td>5.000000</td>\n",
              "      <td>97.000000</td>\n",
              "    </tr>\n",
              "    <tr>\n",
              "      <th>25%</th>\n",
              "      <td>762.000000</td>\n",
              "      <td>231.000000</td>\n",
              "    </tr>\n",
              "    <tr>\n",
              "      <th>50%</th>\n",
              "      <td>971.000000</td>\n",
              "      <td>271.000000</td>\n",
              "    </tr>\n",
              "    <tr>\n",
              "      <th>75%</th>\n",
              "      <td>1190.000000</td>\n",
              "      <td>307.000000</td>\n",
              "    </tr>\n",
              "    <tr>\n",
              "      <th>max</th>\n",
              "      <td>3172.000000</td>\n",
              "      <td>439.000000</td>\n",
              "    </tr>\n",
              "  </tbody>\n",
              "</table>\n",
              "</div>"
            ],
            "text/plain": [
              "           src_len     tgt_len\n",
              "count   465.000000  465.000000\n",
              "mean    982.662366  267.569892\n",
              "std     419.587487   56.510870\n",
              "min       5.000000   97.000000\n",
              "25%     762.000000  231.000000\n",
              "50%     971.000000  271.000000\n",
              "75%    1190.000000  307.000000\n",
              "max    3172.000000  439.000000"
            ]
          },
          "execution_count": 91,
          "metadata": {},
          "output_type": "execute_result"
        }
      ],
      "source": [
        "final_df.describe()"
      ]
    },
    {
      "cell_type": "code",
      "execution_count": null,
      "metadata": {
        "id": "3M_t_7__BRVy"
      },
      "outputs": [],
      "source": [
        "import pandas as pd\n",
        "df = pd.read_excel(\"data_new_T5.xlsx\")"
      ]
    },
    {
      "cell_type": "code",
      "execution_count": null,
      "metadata": {
        "id": "JroKiv2RBRVy",
        "outputId": "6bc1d66b-3857-4261-c25b-8d4367c581a0"
      },
      "outputs": [
        {
          "data": {
            "text/plain": [
              "input_text     5.30pm Bangladesh have won the toss and will b...\n",
              "target_text    Bangladesh 122 for 8 (Naim 23, Ellis 2-16, Chr...\n",
              "Name: 0, dtype: object"
            ]
          },
          "execution_count": 77,
          "metadata": {},
          "output_type": "execute_result"
        }
      ],
      "source": [
        "df.iloc[0]"
      ]
    },
    {
      "cell_type": "code",
      "execution_count": null,
      "metadata": {
        "id": "7ecxDCwEBRVy"
      },
      "outputs": [],
      "source": [
        "df[\"src_len\"] = df[\"input_text\"].map(lambda x : len(tokenizer(x)[\"input_ids\"]))\n",
        "df[\"tgt_len\"] = df[\"target_text\"].map(lambda x : len(tokenizer(x)[\"input_ids\"]))"
      ]
    },
    {
      "cell_type": "code",
      "execution_count": null,
      "metadata": {
        "id": "3wYV-26pBRVy",
        "outputId": "d5dd6e6a-7377-46ef-8509-e6320f3ee76e"
      },
      "outputs": [
        {
          "data": {
            "text/html": [
              "<div>\n",
              "<style scoped>\n",
              "    .dataframe tbody tr th:only-of-type {\n",
              "        vertical-align: middle;\n",
              "    }\n",
              "\n",
              "    .dataframe tbody tr th {\n",
              "        vertical-align: top;\n",
              "    }\n",
              "\n",
              "    .dataframe thead th {\n",
              "        text-align: right;\n",
              "    }\n",
              "</style>\n",
              "<table border=\"1\" class=\"dataframe\">\n",
              "  <thead>\n",
              "    <tr style=\"text-align: right;\">\n",
              "      <th></th>\n",
              "      <th>src_len</th>\n",
              "      <th>tgt_len</th>\n",
              "    </tr>\n",
              "  </thead>\n",
              "  <tbody>\n",
              "    <tr>\n",
              "      <th>count</th>\n",
              "      <td>463.000000</td>\n",
              "      <td>463.000000</td>\n",
              "    </tr>\n",
              "    <tr>\n",
              "      <th>mean</th>\n",
              "      <td>492.846652</td>\n",
              "      <td>268.164147</td>\n",
              "    </tr>\n",
              "    <tr>\n",
              "      <th>std</th>\n",
              "      <td>40.271807</td>\n",
              "      <td>55.859702</td>\n",
              "    </tr>\n",
              "    <tr>\n",
              "      <th>min</th>\n",
              "      <td>68.000000</td>\n",
              "      <td>100.000000</td>\n",
              "    </tr>\n",
              "    <tr>\n",
              "      <th>25%</th>\n",
              "      <td>491.000000</td>\n",
              "      <td>232.500000</td>\n",
              "    </tr>\n",
              "    <tr>\n",
              "      <th>50%</th>\n",
              "      <td>500.000000</td>\n",
              "      <td>272.000000</td>\n",
              "    </tr>\n",
              "    <tr>\n",
              "      <th>75%</th>\n",
              "      <td>508.000000</td>\n",
              "      <td>307.000000</td>\n",
              "    </tr>\n",
              "    <tr>\n",
              "      <th>max</th>\n",
              "      <td>513.000000</td>\n",
              "      <td>439.000000</td>\n",
              "    </tr>\n",
              "  </tbody>\n",
              "</table>\n",
              "</div>"
            ],
            "text/plain": [
              "          src_len     tgt_len\n",
              "count  463.000000  463.000000\n",
              "mean   492.846652  268.164147\n",
              "std     40.271807   55.859702\n",
              "min     68.000000  100.000000\n",
              "25%    491.000000  232.500000\n",
              "50%    500.000000  272.000000\n",
              "75%    508.000000  307.000000\n",
              "max    513.000000  439.000000"
            ]
          },
          "execution_count": 80,
          "metadata": {},
          "output_type": "execute_result"
        }
      ],
      "source": [
        "df.describe()"
      ]
    },
    {
      "cell_type": "code",
      "execution_count": null,
      "metadata": {
        "id": "gQe6JnG8BRVy"
      },
      "outputs": [],
      "source": []
    }
  ],
  "metadata": {
    "kernelspec": {
      "display_name": "nhv",
      "language": "python",
      "name": "python3"
    },
    "language_info": {
      "codemirror_mode": {
        "name": "ipython",
        "version": 3
      },
      "file_extension": ".py",
      "mimetype": "text/x-python",
      "name": "python",
      "nbconvert_exporter": "python",
      "pygments_lexer": "ipython3",
      "version": "3.8.17"
    },
    "orig_nbformat": 4,
    "colab": {
      "provenance": [],
      "include_colab_link": true
    }
  },
  "nbformat": 4,
  "nbformat_minor": 0
}